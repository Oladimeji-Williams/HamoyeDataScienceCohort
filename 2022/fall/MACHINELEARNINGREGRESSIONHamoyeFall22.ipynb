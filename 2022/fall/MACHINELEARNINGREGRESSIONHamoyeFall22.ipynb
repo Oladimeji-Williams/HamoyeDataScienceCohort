{
  "nbformat": 4,
  "nbformat_minor": 0,
  "metadata": {
    "colab": {
      "provenance": [],
      "authorship_tag": "ABX9TyMfZAhNIwL28oMYHKb0NmGa",
      "include_colab_link": true
    },
    "kernelspec": {
      "name": "python3",
      "display_name": "Python 3"
    },
    "language_info": {
      "name": "python"
    }
  },
  "cells": [
    {
      "cell_type": "markdown",
      "metadata": {
        "id": "view-in-github",
        "colab_type": "text"
      },
      "source": [
        "<a href=\"https://colab.research.google.com/github/Oladimeji-Williams/HDSCFall2022/blob/main/MACHINE_LEARNING_REGRESSION_%7C_HamoyeFall22.ipynb\" target=\"_parent\"><img src=\"https://colab.research.google.com/assets/colab-badge.svg\" alt=\"Open In Colab\"/></a>"
      ]
    },
    {
      "cell_type": "markdown",
      "source": [
        "# Stage B Quiz Solution\n",
        "\n",
        "Oladimeji Williams\n",
        "© ellipsis\n",
        "\n",
        "---\n",
        "\n",
        "I **Oladimeji WILLIAMS**, confirm - by submitting this document - that the solutions in this notebook are a result of my own work and that I abide by the [Code of Conduct](https://drive.google.com/file/d/1sbR80aowp1daCnElwx3kNm0fxids0e6b/view) contained therein.\n",
        "\n",
        "\n",
        "### Overview: Machine Learning: Regression - Predicting Energy Efficiency of Buildings\n",
        "> The dataset for the remainder of this quiz is the Appliances Energy Prediction data. The data set is at 10 min for about 4.5 months. The house temperature and humidity conditions were monitored with a ZigBee wireless sensor network. Each wireless node transmitted the temperature and humidity conditions around 3.3 min. Then, the wireless data was averaged for 10 minutes periods. The energy data was logged every 10 minutes with m-bus energy meters. Weather from the nearest airport weather station (Chievres Airport, Belgium) was downloaded from a public data set from Reliable Prognosis (rp5.ru), and merged together with the experimental data sets using the date and time column. Two random variables have been included in the data set for testing the regression models and to filter out non predictive attributes (parameters). The attribute information can be seen below.\n",
        "\n",
        "Attribute Information:\n",
        "- 1.   `date`, time year-month-day hour:minute:second\n",
        "- 2.   `Appliances`, energy use in Wh\n",
        "- 3.   `lights`, energy use of light fixtures in the house in Wh\n",
        "- 4.   `T1`, Temperature in kitchen area, in Celsius\n",
        "- 5.   `RH_1`, Humidity in kitchen area, in %\n",
        "- 6.   `T2`, Temperature in living room area, in Celsius\n",
        "- 7.   `RH_2`, Humidity in living room area, in %\n",
        "- 8.   `T3`, Temperature in laundry room area\n",
        "- 9.   `RH_3`, Humidity in laundry room area, in %\n",
        "- 10.  `T4`, Temperature in office room, in Celsius\n",
        "- 11.  `RH_4`, Humidity in office room, in %\n",
        "- 12.  `T5`, Temperature in bathroom, in Celsius\n",
        "- 13.  `RH_5`, Humidity in bathroom, in %\n",
        "- 14.  `T6`, Temperature outside the building (north side), in Celsius\n",
        "- 15.  `RH_6`, Humidity outside the building (north side), in %\n",
        "- 16.  `T7`, Temperature in ironing room , in Celsius\n",
        "- 17.  `RH_7`, Humidity in ironing room, in %\n",
        "- 18.  `T8`, Temperature in teenager room 2, in Celsius\n",
        "- 19.  `RH_8`, Humidity in teenager room 2, in %\n",
        "- 20.  `T9`, Temperature in parents room, in Celsius\n",
        "- 21.  `RH_9`, Humidity in parents room, in %\n",
        "- 22.  `T_out`, Temperature outside (from Chievres weather station), in Celsius\n",
        "- 23.  `Press_mm_hg` (from Chievres weather station), in mm Hg\n",
        "- 24.  `RH_out`, Humidity outside (from Chievres weather station), in %\n",
        "- 25.  `Windspeed` (from Chievres weather station), in m/s\n",
        "- 26.  `Visibility` (from Chievres weather station), in km\n",
        "- 27.  `Tdewpoint` (from Chievres weather station), Â°C\n",
        "- 28.  `rv1`, Random variable 1, nondimensional\n",
        "- 29.  `rv2`, Random variable 2, nondimensional"
      ],
      "metadata": {
        "id": "Q4PwPlaOuDfm"
      }
    },
    {
      "cell_type": "markdown",
      "source": [
        "# Preliminaries"
      ],
      "metadata": {
        "id": "F_lEqtN9uFP_"
      }
    },
    {
      "cell_type": "code",
      "execution_count": 1,
      "metadata": {
        "id": "wLIyUg2BpBDM"
      },
      "outputs": [],
      "source": [
        "# Load All Possible Libraries\n",
        "import pandas as pd\n",
        "import numpy as np\n",
        "import matplotlib.pyplot as plt\n",
        "import seaborn as sns\n",
        "from google.colab import files\n",
        "import io\n",
        "from sklearn.linear_model import LinearRegression, Ridge, Lasso\n",
        "from sklearn.metrics import r2_score, mean_absolute_error, mean_squared_error\n",
        "from sklearn.model_selection import train_test_split\n",
        "from sklearn.preprocessing import MinMaxScaler\n",
        "from statsmodels.graphics.correlation import plot_corr\n",
        "import statsmodels.formula.api as smf\n",
        "import statsmodels.api as sm\n",
        "from sklearn.preprocessing import LabelEncoder\n",
        "import warnings\n",
        "warnings.filterwarnings('ignore')\n",
        "%matplotlib inline"
      ]
    },
    {
      "cell_type": "code",
      "source": [
        "uploaded = files.upload()"
      ],
      "metadata": {
        "colab": {
          "base_uri": "https://localhost:8080/",
          "height": 73
        },
        "id": "Qt4JX8zouMp8",
        "outputId": "a073ec73-921a-4303-df2e-ae4e5ef41efb"
      },
      "execution_count": 2,
      "outputs": [
        {
          "output_type": "display_data",
          "data": {
            "text/plain": [
              "<IPython.core.display.HTML object>"
            ],
            "text/html": [
              "\n",
              "     <input type=\"file\" id=\"files-4dccbd01-6138-4d66-8462-19a488dfe1e3\" name=\"files[]\" multiple disabled\n",
              "        style=\"border:none\" />\n",
              "     <output id=\"result-4dccbd01-6138-4d66-8462-19a488dfe1e3\">\n",
              "      Upload widget is only available when the cell has been executed in the\n",
              "      current browser session. Please rerun this cell to enable.\n",
              "      </output>\n",
              "      <script>// Copyright 2017 Google LLC\n",
              "//\n",
              "// Licensed under the Apache License, Version 2.0 (the \"License\");\n",
              "// you may not use this file except in compliance with the License.\n",
              "// You may obtain a copy of the License at\n",
              "//\n",
              "//      http://www.apache.org/licenses/LICENSE-2.0\n",
              "//\n",
              "// Unless required by applicable law or agreed to in writing, software\n",
              "// distributed under the License is distributed on an \"AS IS\" BASIS,\n",
              "// WITHOUT WARRANTIES OR CONDITIONS OF ANY KIND, either express or implied.\n",
              "// See the License for the specific language governing permissions and\n",
              "// limitations under the License.\n",
              "\n",
              "/**\n",
              " * @fileoverview Helpers for google.colab Python module.\n",
              " */\n",
              "(function(scope) {\n",
              "function span(text, styleAttributes = {}) {\n",
              "  const element = document.createElement('span');\n",
              "  element.textContent = text;\n",
              "  for (const key of Object.keys(styleAttributes)) {\n",
              "    element.style[key] = styleAttributes[key];\n",
              "  }\n",
              "  return element;\n",
              "}\n",
              "\n",
              "// Max number of bytes which will be uploaded at a time.\n",
              "const MAX_PAYLOAD_SIZE = 100 * 1024;\n",
              "\n",
              "function _uploadFiles(inputId, outputId) {\n",
              "  const steps = uploadFilesStep(inputId, outputId);\n",
              "  const outputElement = document.getElementById(outputId);\n",
              "  // Cache steps on the outputElement to make it available for the next call\n",
              "  // to uploadFilesContinue from Python.\n",
              "  outputElement.steps = steps;\n",
              "\n",
              "  return _uploadFilesContinue(outputId);\n",
              "}\n",
              "\n",
              "// This is roughly an async generator (not supported in the browser yet),\n",
              "// where there are multiple asynchronous steps and the Python side is going\n",
              "// to poll for completion of each step.\n",
              "// This uses a Promise to block the python side on completion of each step,\n",
              "// then passes the result of the previous step as the input to the next step.\n",
              "function _uploadFilesContinue(outputId) {\n",
              "  const outputElement = document.getElementById(outputId);\n",
              "  const steps = outputElement.steps;\n",
              "\n",
              "  const next = steps.next(outputElement.lastPromiseValue);\n",
              "  return Promise.resolve(next.value.promise).then((value) => {\n",
              "    // Cache the last promise value to make it available to the next\n",
              "    // step of the generator.\n",
              "    outputElement.lastPromiseValue = value;\n",
              "    return next.value.response;\n",
              "  });\n",
              "}\n",
              "\n",
              "/**\n",
              " * Generator function which is called between each async step of the upload\n",
              " * process.\n",
              " * @param {string} inputId Element ID of the input file picker element.\n",
              " * @param {string} outputId Element ID of the output display.\n",
              " * @return {!Iterable<!Object>} Iterable of next steps.\n",
              " */\n",
              "function* uploadFilesStep(inputId, outputId) {\n",
              "  const inputElement = document.getElementById(inputId);\n",
              "  inputElement.disabled = false;\n",
              "\n",
              "  const outputElement = document.getElementById(outputId);\n",
              "  outputElement.innerHTML = '';\n",
              "\n",
              "  const pickedPromise = new Promise((resolve) => {\n",
              "    inputElement.addEventListener('change', (e) => {\n",
              "      resolve(e.target.files);\n",
              "    });\n",
              "  });\n",
              "\n",
              "  const cancel = document.createElement('button');\n",
              "  inputElement.parentElement.appendChild(cancel);\n",
              "  cancel.textContent = 'Cancel upload';\n",
              "  const cancelPromise = new Promise((resolve) => {\n",
              "    cancel.onclick = () => {\n",
              "      resolve(null);\n",
              "    };\n",
              "  });\n",
              "\n",
              "  // Wait for the user to pick the files.\n",
              "  const files = yield {\n",
              "    promise: Promise.race([pickedPromise, cancelPromise]),\n",
              "    response: {\n",
              "      action: 'starting',\n",
              "    }\n",
              "  };\n",
              "\n",
              "  cancel.remove();\n",
              "\n",
              "  // Disable the input element since further picks are not allowed.\n",
              "  inputElement.disabled = true;\n",
              "\n",
              "  if (!files) {\n",
              "    return {\n",
              "      response: {\n",
              "        action: 'complete',\n",
              "      }\n",
              "    };\n",
              "  }\n",
              "\n",
              "  for (const file of files) {\n",
              "    const li = document.createElement('li');\n",
              "    li.append(span(file.name, {fontWeight: 'bold'}));\n",
              "    li.append(span(\n",
              "        `(${file.type || 'n/a'}) - ${file.size} bytes, ` +\n",
              "        `last modified: ${\n",
              "            file.lastModifiedDate ? file.lastModifiedDate.toLocaleDateString() :\n",
              "                                    'n/a'} - `));\n",
              "    const percent = span('0% done');\n",
              "    li.appendChild(percent);\n",
              "\n",
              "    outputElement.appendChild(li);\n",
              "\n",
              "    const fileDataPromise = new Promise((resolve) => {\n",
              "      const reader = new FileReader();\n",
              "      reader.onload = (e) => {\n",
              "        resolve(e.target.result);\n",
              "      };\n",
              "      reader.readAsArrayBuffer(file);\n",
              "    });\n",
              "    // Wait for the data to be ready.\n",
              "    let fileData = yield {\n",
              "      promise: fileDataPromise,\n",
              "      response: {\n",
              "        action: 'continue',\n",
              "      }\n",
              "    };\n",
              "\n",
              "    // Use a chunked sending to avoid message size limits. See b/62115660.\n",
              "    let position = 0;\n",
              "    do {\n",
              "      const length = Math.min(fileData.byteLength - position, MAX_PAYLOAD_SIZE);\n",
              "      const chunk = new Uint8Array(fileData, position, length);\n",
              "      position += length;\n",
              "\n",
              "      const base64 = btoa(String.fromCharCode.apply(null, chunk));\n",
              "      yield {\n",
              "        response: {\n",
              "          action: 'append',\n",
              "          file: file.name,\n",
              "          data: base64,\n",
              "        },\n",
              "      };\n",
              "\n",
              "      let percentDone = fileData.byteLength === 0 ?\n",
              "          100 :\n",
              "          Math.round((position / fileData.byteLength) * 100);\n",
              "      percent.textContent = `${percentDone}% done`;\n",
              "\n",
              "    } while (position < fileData.byteLength);\n",
              "  }\n",
              "\n",
              "  // All done.\n",
              "  yield {\n",
              "    response: {\n",
              "      action: 'complete',\n",
              "    }\n",
              "  };\n",
              "}\n",
              "\n",
              "scope.google = scope.google || {};\n",
              "scope.google.colab = scope.google.colab || {};\n",
              "scope.google.colab._files = {\n",
              "  _uploadFiles,\n",
              "  _uploadFilesContinue,\n",
              "};\n",
              "})(self);\n",
              "</script> "
            ]
          },
          "metadata": {}
        },
        {
          "output_type": "stream",
          "name": "stdout",
          "text": [
            "Saving energydata_complete.csv to energydata_complete.csv\n"
          ]
        }
      ]
    },
    {
      "cell_type": "code",
      "source": [
        "# Load the dateset\n",
        "df = pd.read_csv(io.BytesIO(uploaded[\"energydata_complete.csv\"]), parse_dates=[0])"
      ],
      "metadata": {
        "id": "K3CF_sGguQHL"
      },
      "execution_count": 4,
      "outputs": []
    },
    {
      "cell_type": "code",
      "source": [
        "# Copy the dataset into another dataframe\n",
        "df_copy = df.copy()"
      ],
      "metadata": {
        "id": "gV9kJftpuU08"
      },
      "execution_count": 5,
      "outputs": []
    },
    {
      "cell_type": "code",
      "source": [
        "# Peak the first few observations of the dataset\n",
        "df.head()"
      ],
      "metadata": {
        "colab": {
          "base_uri": "https://localhost:8080/",
          "height": 473
        },
        "id": "WsQprkBluU6i",
        "outputId": "6e139277-9ecd-476d-eb4f-c5faa7f87606"
      },
      "execution_count": 6,
      "outputs": [
        {
          "output_type": "execute_result",
          "data": {
            "text/plain": [
              "                 date  Appliances  lights     T1       RH_1    T2       RH_2  \\\n",
              "0 2016-01-11 17:00:00          60      30  19.89  47.596667  19.2  44.790000   \n",
              "1 2016-01-11 17:10:00          60      30  19.89  46.693333  19.2  44.722500   \n",
              "2 2016-01-11 17:20:00          50      30  19.89  46.300000  19.2  44.626667   \n",
              "3 2016-01-11 17:30:00          50      40  19.89  46.066667  19.2  44.590000   \n",
              "4 2016-01-11 17:40:00          60      40  19.89  46.333333  19.2  44.530000   \n",
              "\n",
              "      T3       RH_3         T4  ...         T9   RH_9     T_out  Press_mm_hg  \\\n",
              "0  19.79  44.730000  19.000000  ...  17.033333  45.53  6.600000        733.5   \n",
              "1  19.79  44.790000  19.000000  ...  17.066667  45.56  6.483333        733.6   \n",
              "2  19.79  44.933333  18.926667  ...  17.000000  45.50  6.366667        733.7   \n",
              "3  19.79  45.000000  18.890000  ...  17.000000  45.40  6.250000        733.8   \n",
              "4  19.79  45.000000  18.890000  ...  17.000000  45.40  6.133333        733.9   \n",
              "\n",
              "   RH_out  Windspeed  Visibility  Tdewpoint        rv1        rv2  \n",
              "0    92.0   7.000000   63.000000        5.3  13.275433  13.275433  \n",
              "1    92.0   6.666667   59.166667        5.2  18.606195  18.606195  \n",
              "2    92.0   6.333333   55.333333        5.1  28.642668  28.642668  \n",
              "3    92.0   6.000000   51.500000        5.0  45.410389  45.410389  \n",
              "4    92.0   5.666667   47.666667        4.9  10.084097  10.084097  \n",
              "\n",
              "[5 rows x 29 columns]"
            ],
            "text/html": [
              "\n",
              "  <div id=\"df-f16add82-8eb9-47bc-bdb8-b531fce6b708\">\n",
              "    <div class=\"colab-df-container\">\n",
              "      <div>\n",
              "<style scoped>\n",
              "    .dataframe tbody tr th:only-of-type {\n",
              "        vertical-align: middle;\n",
              "    }\n",
              "\n",
              "    .dataframe tbody tr th {\n",
              "        vertical-align: top;\n",
              "    }\n",
              "\n",
              "    .dataframe thead th {\n",
              "        text-align: right;\n",
              "    }\n",
              "</style>\n",
              "<table border=\"1\" class=\"dataframe\">\n",
              "  <thead>\n",
              "    <tr style=\"text-align: right;\">\n",
              "      <th></th>\n",
              "      <th>date</th>\n",
              "      <th>Appliances</th>\n",
              "      <th>lights</th>\n",
              "      <th>T1</th>\n",
              "      <th>RH_1</th>\n",
              "      <th>T2</th>\n",
              "      <th>RH_2</th>\n",
              "      <th>T3</th>\n",
              "      <th>RH_3</th>\n",
              "      <th>T4</th>\n",
              "      <th>...</th>\n",
              "      <th>T9</th>\n",
              "      <th>RH_9</th>\n",
              "      <th>T_out</th>\n",
              "      <th>Press_mm_hg</th>\n",
              "      <th>RH_out</th>\n",
              "      <th>Windspeed</th>\n",
              "      <th>Visibility</th>\n",
              "      <th>Tdewpoint</th>\n",
              "      <th>rv1</th>\n",
              "      <th>rv2</th>\n",
              "    </tr>\n",
              "  </thead>\n",
              "  <tbody>\n",
              "    <tr>\n",
              "      <th>0</th>\n",
              "      <td>2016-01-11 17:00:00</td>\n",
              "      <td>60</td>\n",
              "      <td>30</td>\n",
              "      <td>19.89</td>\n",
              "      <td>47.596667</td>\n",
              "      <td>19.2</td>\n",
              "      <td>44.790000</td>\n",
              "      <td>19.79</td>\n",
              "      <td>44.730000</td>\n",
              "      <td>19.000000</td>\n",
              "      <td>...</td>\n",
              "      <td>17.033333</td>\n",
              "      <td>45.53</td>\n",
              "      <td>6.600000</td>\n",
              "      <td>733.5</td>\n",
              "      <td>92.0</td>\n",
              "      <td>7.000000</td>\n",
              "      <td>63.000000</td>\n",
              "      <td>5.3</td>\n",
              "      <td>13.275433</td>\n",
              "      <td>13.275433</td>\n",
              "    </tr>\n",
              "    <tr>\n",
              "      <th>1</th>\n",
              "      <td>2016-01-11 17:10:00</td>\n",
              "      <td>60</td>\n",
              "      <td>30</td>\n",
              "      <td>19.89</td>\n",
              "      <td>46.693333</td>\n",
              "      <td>19.2</td>\n",
              "      <td>44.722500</td>\n",
              "      <td>19.79</td>\n",
              "      <td>44.790000</td>\n",
              "      <td>19.000000</td>\n",
              "      <td>...</td>\n",
              "      <td>17.066667</td>\n",
              "      <td>45.56</td>\n",
              "      <td>6.483333</td>\n",
              "      <td>733.6</td>\n",
              "      <td>92.0</td>\n",
              "      <td>6.666667</td>\n",
              "      <td>59.166667</td>\n",
              "      <td>5.2</td>\n",
              "      <td>18.606195</td>\n",
              "      <td>18.606195</td>\n",
              "    </tr>\n",
              "    <tr>\n",
              "      <th>2</th>\n",
              "      <td>2016-01-11 17:20:00</td>\n",
              "      <td>50</td>\n",
              "      <td>30</td>\n",
              "      <td>19.89</td>\n",
              "      <td>46.300000</td>\n",
              "      <td>19.2</td>\n",
              "      <td>44.626667</td>\n",
              "      <td>19.79</td>\n",
              "      <td>44.933333</td>\n",
              "      <td>18.926667</td>\n",
              "      <td>...</td>\n",
              "      <td>17.000000</td>\n",
              "      <td>45.50</td>\n",
              "      <td>6.366667</td>\n",
              "      <td>733.7</td>\n",
              "      <td>92.0</td>\n",
              "      <td>6.333333</td>\n",
              "      <td>55.333333</td>\n",
              "      <td>5.1</td>\n",
              "      <td>28.642668</td>\n",
              "      <td>28.642668</td>\n",
              "    </tr>\n",
              "    <tr>\n",
              "      <th>3</th>\n",
              "      <td>2016-01-11 17:30:00</td>\n",
              "      <td>50</td>\n",
              "      <td>40</td>\n",
              "      <td>19.89</td>\n",
              "      <td>46.066667</td>\n",
              "      <td>19.2</td>\n",
              "      <td>44.590000</td>\n",
              "      <td>19.79</td>\n",
              "      <td>45.000000</td>\n",
              "      <td>18.890000</td>\n",
              "      <td>...</td>\n",
              "      <td>17.000000</td>\n",
              "      <td>45.40</td>\n",
              "      <td>6.250000</td>\n",
              "      <td>733.8</td>\n",
              "      <td>92.0</td>\n",
              "      <td>6.000000</td>\n",
              "      <td>51.500000</td>\n",
              "      <td>5.0</td>\n",
              "      <td>45.410389</td>\n",
              "      <td>45.410389</td>\n",
              "    </tr>\n",
              "    <tr>\n",
              "      <th>4</th>\n",
              "      <td>2016-01-11 17:40:00</td>\n",
              "      <td>60</td>\n",
              "      <td>40</td>\n",
              "      <td>19.89</td>\n",
              "      <td>46.333333</td>\n",
              "      <td>19.2</td>\n",
              "      <td>44.530000</td>\n",
              "      <td>19.79</td>\n",
              "      <td>45.000000</td>\n",
              "      <td>18.890000</td>\n",
              "      <td>...</td>\n",
              "      <td>17.000000</td>\n",
              "      <td>45.40</td>\n",
              "      <td>6.133333</td>\n",
              "      <td>733.9</td>\n",
              "      <td>92.0</td>\n",
              "      <td>5.666667</td>\n",
              "      <td>47.666667</td>\n",
              "      <td>4.9</td>\n",
              "      <td>10.084097</td>\n",
              "      <td>10.084097</td>\n",
              "    </tr>\n",
              "  </tbody>\n",
              "</table>\n",
              "<p>5 rows × 29 columns</p>\n",
              "</div>\n",
              "      <button class=\"colab-df-convert\" onclick=\"convertToInteractive('df-f16add82-8eb9-47bc-bdb8-b531fce6b708')\"\n",
              "              title=\"Convert this dataframe to an interactive table.\"\n",
              "              style=\"display:none;\">\n",
              "        \n",
              "  <svg xmlns=\"http://www.w3.org/2000/svg\" height=\"24px\"viewBox=\"0 0 24 24\"\n",
              "       width=\"24px\">\n",
              "    <path d=\"M0 0h24v24H0V0z\" fill=\"none\"/>\n",
              "    <path d=\"M18.56 5.44l.94 2.06.94-2.06 2.06-.94-2.06-.94-.94-2.06-.94 2.06-2.06.94zm-11 1L8.5 8.5l.94-2.06 2.06-.94-2.06-.94L8.5 2.5l-.94 2.06-2.06.94zm10 10l.94 2.06.94-2.06 2.06-.94-2.06-.94-.94-2.06-.94 2.06-2.06.94z\"/><path d=\"M17.41 7.96l-1.37-1.37c-.4-.4-.92-.59-1.43-.59-.52 0-1.04.2-1.43.59L10.3 9.45l-7.72 7.72c-.78.78-.78 2.05 0 2.83L4 21.41c.39.39.9.59 1.41.59.51 0 1.02-.2 1.41-.59l7.78-7.78 2.81-2.81c.8-.78.8-2.07 0-2.86zM5.41 20L4 18.59l7.72-7.72 1.47 1.35L5.41 20z\"/>\n",
              "  </svg>\n",
              "      </button>\n",
              "      \n",
              "  <style>\n",
              "    .colab-df-container {\n",
              "      display:flex;\n",
              "      flex-wrap:wrap;\n",
              "      gap: 12px;\n",
              "    }\n",
              "\n",
              "    .colab-df-convert {\n",
              "      background-color: #E8F0FE;\n",
              "      border: none;\n",
              "      border-radius: 50%;\n",
              "      cursor: pointer;\n",
              "      display: none;\n",
              "      fill: #1967D2;\n",
              "      height: 32px;\n",
              "      padding: 0 0 0 0;\n",
              "      width: 32px;\n",
              "    }\n",
              "\n",
              "    .colab-df-convert:hover {\n",
              "      background-color: #E2EBFA;\n",
              "      box-shadow: 0px 1px 2px rgba(60, 64, 67, 0.3), 0px 1px 3px 1px rgba(60, 64, 67, 0.15);\n",
              "      fill: #174EA6;\n",
              "    }\n",
              "\n",
              "    [theme=dark] .colab-df-convert {\n",
              "      background-color: #3B4455;\n",
              "      fill: #D2E3FC;\n",
              "    }\n",
              "\n",
              "    [theme=dark] .colab-df-convert:hover {\n",
              "      background-color: #434B5C;\n",
              "      box-shadow: 0px 1px 3px 1px rgba(0, 0, 0, 0.15);\n",
              "      filter: drop-shadow(0px 1px 2px rgba(0, 0, 0, 0.3));\n",
              "      fill: #FFFFFF;\n",
              "    }\n",
              "  </style>\n",
              "\n",
              "      <script>\n",
              "        const buttonEl =\n",
              "          document.querySelector('#df-f16add82-8eb9-47bc-bdb8-b531fce6b708 button.colab-df-convert');\n",
              "        buttonEl.style.display =\n",
              "          google.colab.kernel.accessAllowed ? 'block' : 'none';\n",
              "\n",
              "        async function convertToInteractive(key) {\n",
              "          const element = document.querySelector('#df-f16add82-8eb9-47bc-bdb8-b531fce6b708');\n",
              "          const dataTable =\n",
              "            await google.colab.kernel.invokeFunction('convertToInteractive',\n",
              "                                                     [key], {});\n",
              "          if (!dataTable) return;\n",
              "\n",
              "          const docLinkHtml = 'Like what you see? Visit the ' +\n",
              "            '<a target=\"_blank\" href=https://colab.research.google.com/notebooks/data_table.ipynb>data table notebook</a>'\n",
              "            + ' to learn more about interactive tables.';\n",
              "          element.innerHTML = '';\n",
              "          dataTable['output_type'] = 'display_data';\n",
              "          await google.colab.output.renderOutput(dataTable, element);\n",
              "          const docLink = document.createElement('div');\n",
              "          docLink.innerHTML = docLinkHtml;\n",
              "          element.appendChild(docLink);\n",
              "        }\n",
              "      </script>\n",
              "    </div>\n",
              "  </div>\n",
              "  "
            ]
          },
          "metadata": {},
          "execution_count": 6
        }
      ]
    },
    {
      "cell_type": "code",
      "source": [
        "# Peak the datatypes\n",
        "df.dtypes"
      ],
      "metadata": {
        "colab": {
          "base_uri": "https://localhost:8080/"
        },
        "id": "xufQrcg9ucqH",
        "outputId": "543da933-f60b-4949-cd94-bb776fc2b106"
      },
      "execution_count": 7,
      "outputs": [
        {
          "output_type": "execute_result",
          "data": {
            "text/plain": [
              "date           datetime64[ns]\n",
              "Appliances              int64\n",
              "lights                  int64\n",
              "T1                    float64\n",
              "RH_1                  float64\n",
              "T2                    float64\n",
              "RH_2                  float64\n",
              "T3                    float64\n",
              "RH_3                  float64\n",
              "T4                    float64\n",
              "RH_4                  float64\n",
              "T5                    float64\n",
              "RH_5                  float64\n",
              "T6                    float64\n",
              "RH_6                  float64\n",
              "T7                    float64\n",
              "RH_7                  float64\n",
              "T8                    float64\n",
              "RH_8                  float64\n",
              "T9                    float64\n",
              "RH_9                  float64\n",
              "T_out                 float64\n",
              "Press_mm_hg           float64\n",
              "RH_out                float64\n",
              "Windspeed             float64\n",
              "Visibility            float64\n",
              "Tdewpoint             float64\n",
              "rv1                   float64\n",
              "rv2                   float64\n",
              "dtype: object"
            ]
          },
          "metadata": {},
          "execution_count": 7
        }
      ]
    },
    {
      "cell_type": "markdown",
      "source": [
        "## Question 1"
      ],
      "metadata": {
        "id": "Z1GkY8nyu9Pf"
      }
    },
    {
      "cell_type": "markdown",
      "source": [
        "Coefficient of Determination"
      ],
      "metadata": {
        "id": "0fNf9rJPvAA3"
      }
    },
    {
      "cell_type": "markdown",
      "source": [
        "## Question 2"
      ],
      "metadata": {
        "id": "GGzImVVm1z4b"
      }
    },
    {
      "cell_type": "markdown",
      "source": [
        "Y - Yhat"
      ],
      "metadata": {
        "id": "bilMeq6r13gE"
      }
    },
    {
      "cell_type": "markdown",
      "source": [
        "## Question 3"
      ],
      "metadata": {
        "id": "RUj664_x2NUR"
      }
    },
    {
      "cell_type": "markdown",
      "source": [
        "b = 0"
      ],
      "metadata": {
        "id": "VRyh2MGV2QDw"
      }
    },
    {
      "cell_type": "markdown",
      "source": [
        "## Question 4"
      ],
      "metadata": {
        "id": "3DDoEXKz2T1I"
      }
    },
    {
      "cell_type": "markdown",
      "source": [
        "Linear Regression with varying error terms"
      ],
      "metadata": {
        "id": "ad2ZxODh2WBv"
      }
    },
    {
      "cell_type": "markdown",
      "source": [
        "## Question 5"
      ],
      "metadata": {
        "id": "TeF5r-JI2ZxY"
      }
    },
    {
      "cell_type": "markdown",
      "source": [
        "1 only"
      ],
      "metadata": {
        "id": "5msbtZc62bzg"
      }
    },
    {
      "cell_type": "markdown",
      "source": [
        "## Question 6"
      ],
      "metadata": {
        "id": "93R9Y2W42eif"
      }
    },
    {
      "cell_type": "markdown",
      "source": [
        "Lasso regression uses subset selection of features"
      ],
      "metadata": {
        "id": "wOuqOLJD2hGV"
      }
    },
    {
      "cell_type": "markdown",
      "source": [
        "## Question 7"
      ],
      "metadata": {
        "id": "mJtn62P02phg"
      }
    },
    {
      "cell_type": "markdown",
      "source": [
        "Linear regression is sensitive to outliers"
      ],
      "metadata": {
        "id": "GYYMkZi62peH"
      }
    },
    {
      "cell_type": "markdown",
      "source": [
        "## Question 8"
      ],
      "metadata": {
        "id": "vj96W0zv2ur-"
      }
    },
    {
      "cell_type": "markdown",
      "source": [
        "1, 2, 3 and 4"
      ],
      "metadata": {
        "id": "mr70S7hE22N-"
      }
    },
    {
      "cell_type": "markdown",
      "source": [
        "## Question 9"
      ],
      "metadata": {
        "id": "Vp_1HMd223dF"
      }
    },
    {
      "cell_type": "markdown",
      "source": [
        "75% of the variance in Y is explained by X"
      ],
      "metadata": {
        "id": "rsJ2mA2O23Xp"
      }
    },
    {
      "cell_type": "markdown",
      "source": [
        "## Question 10"
      ],
      "metadata": {
        "id": "9NHYvs7328yz"
      }
    },
    {
      "cell_type": "markdown",
      "source": [
        "Standard deviation of the residuals"
      ],
      "metadata": {
        "id": "dJ0FnF5a28rt"
      }
    },
    {
      "cell_type": "markdown",
      "source": [
        "## Question 11"
      ],
      "metadata": {
        "id": "H549ddxo3C-i"
      }
    },
    {
      "cell_type": "markdown",
      "source": [
        "Weights are regularized with the L1 norm"
      ],
      "metadata": {
        "id": "S9kpr-2B3C4y"
      }
    },
    {
      "cell_type": "markdown",
      "source": [
        "## Question 12"
      ],
      "metadata": {
        "id": "77hnVixl3C1a"
      }
    },
    {
      "cell_type": "code",
      "source": [
        "# Feature Selection for Linear Regression\n",
        "X = df[[\"T2\"]]\n",
        "y = df[\"T6\"]\n",
        "\n",
        "# Split the dataset into train and test sets\n",
        "X_train, X_test, y_train, y_test = train_test_split(X, y, test_size = 0.3, random_state = 42)\n",
        "\n",
        "# Build a Linear Regression Model\n",
        "linear_model1 = LinearRegression()\n",
        "\n",
        "# Fit the Linear Regression Model\n",
        "linear_model1.fit(X_train, y_train)\n",
        "\n",
        "# Use the model to make predictions on the test dataset\n",
        "y_pred = linear_model1.predict(X_test)\n",
        "\n",
        "# Print the r_squared value\n",
        "print(f\"r_squared is: {round(r2_score(y_test, y_pred), 2)}\")"
      ],
      "metadata": {
        "colab": {
          "base_uri": "https://localhost:8080/"
        },
        "id": "1tEpEsUV2ySd",
        "outputId": "5fe9fd07-3fad-4c4e-c1cc-387bbeb99bd2"
      },
      "execution_count": 9,
      "outputs": [
        {
          "output_type": "stream",
          "name": "stdout",
          "text": [
            "r_squared is: 0.64\n"
          ]
        }
      ]
    },
    {
      "cell_type": "markdown",
      "source": [
        "## Question 13"
      ],
      "metadata": {
        "id": "fM-INCB93Zgm"
      }
    },
    {
      "cell_type": "code",
      "source": [
        "# Drop the unwanted columns\n",
        "df1 = df.drop([\"date\", \"lights\"], axis=1)\n",
        "\n",
        "# Normalize the dataset with MinMaxScaler\n",
        "scaler = MinMaxScaler()\n",
        "normalised_df = pd.DataFrame(scaler.fit_transform(df1), columns=df1.columns)\n",
        "\n",
        "# Feature Selection\n",
        "X = normalised_df.drop([\"Appliances\"], axis=1)\n",
        "y = normalised_df[\"Appliances\"]\n",
        "\n",
        "# Split the Dataset\n",
        "X_train, X_test, y_train, y_test = train_test_split(X, y, test_size=0.3, random_state=42)\n",
        "\n",
        "# Train the Model\n",
        "linear_model2 = LinearRegression()\n",
        "linear_model2.fit(X_train, y_train)\n",
        "\n",
        "# Use the model to make predictions on the test dataset \n",
        "y_pred = linear_model2.predict(X_test)\n",
        "\n",
        "# Print the mean_absolute_error\n",
        "print(f\"mean_absolute_error is: {round(mean_absolute_error(y_test, y_pred), 2)}\")"
      ],
      "metadata": {
        "colab": {
          "base_uri": "https://localhost:8080/"
        },
        "id": "aBhCILpY3PCo",
        "outputId": "e6a43219-f9a8-4238-d89d-f84ce531f336"
      },
      "execution_count": 10,
      "outputs": [
        {
          "output_type": "stream",
          "name": "stdout",
          "text": [
            "mean_absolute_error is: 0.05\n"
          ]
        }
      ]
    },
    {
      "cell_type": "markdown",
      "source": [
        "## Question 14"
      ],
      "metadata": {
        "id": "uTHB1eQU3jTi"
      }
    },
    {
      "cell_type": "code",
      "source": [
        "print(f\"residual sum of squares is : {round(np.sum(np.square(y_test - y_pred)), 2)}\")"
      ],
      "metadata": {
        "colab": {
          "base_uri": "https://localhost:8080/"
        },
        "id": "od1oZalp3Tgh",
        "outputId": "244f4cc1-9705-460b-8805-f05920441fe8"
      },
      "execution_count": 11,
      "outputs": [
        {
          "output_type": "stream",
          "name": "stdout",
          "text": [
            "residual sum of squares is : 45.35\n"
          ]
        }
      ]
    },
    {
      "cell_type": "markdown",
      "source": [
        "## Question 15"
      ],
      "metadata": {
        "id": "RkzLreYs3yq6"
      }
    },
    {
      "cell_type": "code",
      "source": [
        "print(f\"Root mean square error: {round(np.sqrt(mean_squared_error(y_test, y_pred)), 3)}\")"
      ],
      "metadata": {
        "colab": {
          "base_uri": "https://localhost:8080/"
        },
        "id": "0HWVN2in3t_I",
        "outputId": "5779a391-3006-4bbf-9b50-36f3e0f8d0fc"
      },
      "execution_count": 12,
      "outputs": [
        {
          "output_type": "stream",
          "name": "stdout",
          "text": [
            "Root mean square error: 0.088\n"
          ]
        }
      ]
    },
    {
      "cell_type": "markdown",
      "source": [
        "## Question 16"
      ],
      "metadata": {
        "id": "o3ewXiU930yB"
      }
    },
    {
      "cell_type": "code",
      "source": [
        "print(f\"coefficient of determination (r squared) is: {round(r2_score(y_test, y_pred), 2)}\")"
      ],
      "metadata": {
        "colab": {
          "base_uri": "https://localhost:8080/"
        },
        "id": "3ebBOKwF3z4N",
        "outputId": "9ac2de55-c149-485a-c75b-a55a279b04a4"
      },
      "execution_count": 13,
      "outputs": [
        {
          "output_type": "stream",
          "name": "stdout",
          "text": [
            "coefficient of determination (r squared) is: 0.15\n"
          ]
        }
      ]
    },
    {
      "cell_type": "markdown",
      "source": [
        "## Question 17"
      ],
      "metadata": {
        "id": "LP35QSD538-N"
      }
    },
    {
      "cell_type": "code",
      "source": [
        "## Compute a dataframe of weights\n",
        "weights_df = pd.DataFrame(data={\"weights\":linear_model2.coef_}, index=X_train.columns)\n",
        "\n",
        "## Print the lowest and highest weights\n",
        "print(weights_df[\"weights\"].idxmin(), \",\", weights_df[\"weights\"].idxmax())"
      ],
      "metadata": {
        "colab": {
          "base_uri": "https://localhost:8080/"
        },
        "id": "FSgGOBCP34D8",
        "outputId": "c002ac68-d292-4e14-abd1-87526ebdc08e"
      },
      "execution_count": 14,
      "outputs": [
        {
          "output_type": "stream",
          "name": "stdout",
          "text": [
            "RH_2 , RH_1\n"
          ]
        }
      ]
    },
    {
      "cell_type": "markdown",
      "source": [
        "## Question 18"
      ],
      "metadata": {
        "id": "DfRfP5Aa4CGP"
      }
    },
    {
      "cell_type": "code",
      "source": [
        "## Train a Ridge Regressor model\n",
        "ridge_model = Ridge(alpha=0.4)\n",
        "\n",
        "## Fit the model\n",
        "ridge_model.fit(X_train, y_train)\n",
        "\n",
        "## Use the model to make predictions on the test dataset\n",
        "y_pred = ridge_model.predict(X_test)\n",
        "\n",
        "## Print the root_mean_squared_error\n",
        "print(f\"Root mean square error: {round(np.sqrt(mean_squared_error(y_test, y_pred)), 3)}\")"
      ],
      "metadata": {
        "colab": {
          "base_uri": "https://localhost:8080/"
        },
        "id": "vlXCC84s4BId",
        "outputId": "604c0c13-dfdc-466b-c062-b15979aacbe9"
      },
      "execution_count": 15,
      "outputs": [
        {
          "output_type": "stream",
          "name": "stdout",
          "text": [
            "Root mean square error: 0.088\n"
          ]
        }
      ]
    },
    {
      "cell_type": "markdown",
      "source": [
        "## Question 19"
      ],
      "metadata": {
        "id": "KijERexY4Jyq"
      }
    },
    {
      "cell_type": "code",
      "source": [
        "## Train a Lass Regressor model\n",
        "lasso_model = Lasso(alpha = 0.001)\n",
        "lasso_model.fit(X_train, y_train)\n",
        "\n",
        "## Compute a dataframe of weights\n",
        "weights_df = pd.DataFrame(data={\"weights\":lasso_model.coef_}, index=X_train.columns)\n",
        "\n",
        "np.sum(weights_df[\"weights\"] != 0)"
      ],
      "metadata": {
        "colab": {
          "base_uri": "https://localhost:8080/"
        },
        "id": "d-PHFY1m4Fwe",
        "outputId": "f25689d3-46fe-4697-97f4-eea61a837d9f"
      },
      "execution_count": 16,
      "outputs": [
        {
          "output_type": "execute_result",
          "data": {
            "text/plain": [
              "4"
            ]
          },
          "metadata": {},
          "execution_count": 16
        }
      ]
    },
    {
      "cell_type": "markdown",
      "source": [
        "## Question 20"
      ],
      "metadata": {
        "id": "nkoSvbXS4VCd"
      }
    },
    {
      "cell_type": "code",
      "source": [
        "y_pred = lasso_model.predict(X_test)\n",
        "print(f\"Root mean square error: {round(np.sqrt(mean_squared_error(y_test, y_pred)), 3)}\")"
      ],
      "metadata": {
        "colab": {
          "base_uri": "https://localhost:8080/"
        },
        "id": "jlKIboto4TjR",
        "outputId": "333a47b1-6cc2-4bf9-e914-3cdfd2063f94"
      },
      "execution_count": 17,
      "outputs": [
        {
          "output_type": "stream",
          "name": "stdout",
          "text": [
            "Root mean square error: 0.094\n"
          ]
        }
      ]
    },
    {
      "cell_type": "code",
      "source": [],
      "metadata": {
        "id": "3fpCEIBc4Ya6"
      },
      "execution_count": null,
      "outputs": []
    }
  ]
}